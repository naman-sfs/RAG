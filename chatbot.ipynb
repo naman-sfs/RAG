{
 "cells": [
  {
   "cell_type": "code",
   "execution_count": 1,
   "metadata": {},
   "outputs": [],
   "source": [
    "EMB_OPENAI_ADA = \"text-embedding-ada-002\"\n",
    "EMB_INSTRUCTOR_XL = \"hkunlp/instructor-xl\"\n",
    "EMB_SBERT_MPNET_BASE = \"sentence-transformers/all-mpnet-base-v2\" "
   ]
  },
  {
   "cell_type": "code",
   "execution_count": 2,
   "metadata": {},
   "outputs": [],
   "source": [
    "LLM_OPENAI_GPT35 = \"gpt-3.5-turbo\"\n",
    "LLM_FLAN_T5_XXL = \"google/flan-t5-xxl\"\n",
    "LLM_FLAN_T5_XL = \"google/flan-t5-xl\"\n",
    "LLM_FASTCHAT_T5_XL = \"lmsys/fastchat-t5-3b-v1.0\"\n",
    "LLM_FLAN_T5_SMALL = \"google/flan-t5-small\"\n",
    "LLM_FLAN_T5_BASE = \"google/flan-t5-base\"\n",
    "LLM_FLAN_T5_LARGE = \"google/flan-t5-large\"\n",
    "LLM_FALCON_SMALL = \"tiiuae/falcon-7b-instruct\""
   ]
  },
  {
   "cell_type": "code",
   "execution_count": 3,
   "metadata": {},
   "outputs": [
    {
     "name": "stderr",
     "output_type": "stream",
     "text": [
      "c:\\Users\\Python\\anaconda3\\envs\\bot_env\\lib\\site-packages\\tqdm\\auto.py:21: TqdmWarning: IProgress not found. Please update jupyter and ipywidgets. See https://ipywidgets.readthedocs.io/en/stable/user_install.html\n",
      "  from .autonotebook import tqdm as notebook_tqdm\n"
     ]
    }
   ],
   "source": [
    "from langchain.document_loaders import PDFPlumberLoader\n",
    "from langchain.text_splitter import CharacterTextSplitter, TokenTextSplitter\n",
    "from transformers import pipeline\n",
    "from langchain.prompts import PromptTemplate\n",
    "from langchain.chat_models import ChatOpenAI\n",
    "from langchain.vectorstores import Chroma\n",
    "from langchain.chains import RetrievalQA\n",
    "from langchain import HuggingFacePipeline\n",
    "from langchain.embeddings import HuggingFaceInstructEmbeddings, HuggingFaceEmbeddings\n",
    "from langchain.embeddings.openai import OpenAIEmbeddings\n",
    "from langchain.llms import OpenAI\n",
    "import torch\n",
    "from transformers import AutoTokenizer\n",
    "import re\n",
    "import os\n"
   ]
  },
  {
   "cell_type": "code",
   "execution_count": 4,
   "metadata": {},
   "outputs": [],
   "source": [
    "config = {\"persist_directory\":None,\n",
    "          \"load_in_8bit\":False,\n",
    "          \"embedding\" : EMB_SBERT_MPNET_BASE,\n",
    "          \"llm\":LLM_FLAN_T5_BASE,\n",
    "          }"
   ]
  },
  {
   "cell_type": "code",
   "execution_count": 5,
   "metadata": {},
   "outputs": [],
   "source": [
    "def create_sbert_mpnet():\n",
    "        device = \"cuda\" if torch.cuda.is_available() else \"cpu\"\n",
    "        return HuggingFaceEmbeddings(model_name=EMB_SBERT_MPNET_BASE, model_kwargs={\"device\": device})\n",
    "\n",
    "\n",
    "def create_flan_t5_base(load_in_8bit=False):\n",
    "        # Wrap it in HF pipeline for use with LangChain\n",
    "        model=\"google/flan-t5-base\"\n",
    "        tokenizer = AutoTokenizer.from_pretrained(model)\n",
    "        return pipeline(\n",
    "            task=\"text2text-generation\",\n",
    "            model=model,\n",
    "            tokenizer = tokenizer,\n",
    "            max_new_tokens=100,\n",
    "            model_kwargs={\"device_map\": \"auto\", \"load_in_8bit\": load_in_8bit, \"max_length\": 512, \"temperature\": 0.}\n",
    "        )\n",
    "\n",
    "def create_falcon_instruct_small(load_in_8bit=False):\n",
    "        model = \"tiiuae/falcon-7b-instruct\"\n",
    "\n",
    "        tokenizer = AutoTokenizer.from_pretrained(model)\n",
    "        hf_pipeline = pipeline(\n",
    "                task=\"text-generation\",\n",
    "                model = model,\n",
    "                tokenizer = tokenizer,\n",
    "                trust_remote_code = True,\n",
    "                max_new_tokens=100,\n",
    "                model_kwargs={\n",
    "                    \"device_map\": \"auto\", \n",
    "                    \"load_in_8bit\": load_in_8bit, \n",
    "                    \"max_length\": 512, \n",
    "                    \"temperature\": 0.01,\n",
    "                    \"torch_dtype\":torch.bfloat16,\n",
    "                    }\n",
    "            )\n",
    "        return hf_pipeline"
   ]
  },
  {
   "cell_type": "code",
   "execution_count": 6,
   "metadata": {},
   "outputs": [],
   "source": [
    "if config[\"embedding\"] == EMB_SBERT_MPNET_BASE:\n",
    "    embedding = create_sbert_mpnet()"
   ]
  },
  {
   "cell_type": "code",
   "execution_count": 7,
   "metadata": {},
   "outputs": [],
   "source": [
    "load_in_8bit = config[\"load_in_8bit\"]\n",
    "if config[\"llm\"] == LLM_FLAN_T5_BASE:\n",
    "    llm = create_flan_t5_base(load_in_8bit=load_in_8bit)"
   ]
  },
  {
   "cell_type": "code",
   "execution_count": 48,
   "metadata": {},
   "outputs": [
    {
     "name": "stdout",
     "output_type": "stream",
     "text": [
      "['B1.pdf', 'B2.pdf', 'B3.pdf']\n"
     ]
    }
   ],
   "source": [
    "# Code to Train on multiple files\n",
    "import os\n",
    "path = \"./data\"\n",
    "dir_list = os.listdir(path)\n",
    "documents=[]\n",
    "# prints all files\n",
    "print(dir_list)\n",
    "for file in dir_list:\n",
    "    file = path + file\n",
    "    loader = PDFPlumberLoader(file)\n",
    "    doc = loader.load()\n",
    "    documents+=doc"
   ]
  },
  {
   "cell_type": "code",
   "execution_count": 38,
   "metadata": {},
   "outputs": [],
   "source": [
    "pdf_path = path + \"B1.pdf\"\n",
    "loader = PDFPlumberLoader(pdf_path)\n",
    "documents = loader.load()"
   ]
  },
  {
   "cell_type": "code",
   "execution_count": 49,
   "metadata": {},
   "outputs": [
    {
     "name": "stdout",
     "output_type": "stream",
     "text": [
      "<class 'list'>\n",
      "619\n"
     ]
    }
   ],
   "source": [
    "print(type(documents))\n",
    "print(len(documents))\n"
   ]
  },
  {
   "cell_type": "code",
   "execution_count": 39,
   "metadata": {},
   "outputs": [],
   "source": [
    "text_splitter = CharacterTextSplitter(chunk_size=100, chunk_overlap=0)\n",
    "texts = text_splitter.split_documents(documents)\n",
    "text_splitter = TokenTextSplitter(chunk_size=1000, chunk_overlap=10, encoding_name=\"cl100k_base\")  # This the encoding for text-embedding-ada-002\n",
    "texts = text_splitter.split_documents(texts)\n"
   ]
  },
  {
   "cell_type": "code",
   "execution_count": 10,
   "metadata": {},
   "outputs": [],
   "source": [
    "persist_directory = config[\"persist_directory\"]\n",
    "vectordb = Chroma.from_documents(documents=texts, embedding=embedding, persist_directory=persist_directory)\n",
    " "
   ]
  },
  {
   "cell_type": "code",
   "execution_count": 11,
   "metadata": {},
   "outputs": [],
   "source": [
    "hf_llm = HuggingFacePipeline(pipeline=llm)\n",
    "retriever = vectordb.as_retriever(search_kwargs={\"k\":4})\n",
    "qa = RetrievalQA.from_chain_type(llm=hf_llm, chain_type=\"stuff\",retriever=retriever)\n",
    "# , chain_kwargs = {\"return_intermediate_steps\":True})"
   ]
  },
  {
   "cell_type": "code",
   "execution_count": 27,
   "metadata": {},
   "outputs": [
    {
     "data": {
      "text/plain": [
       "langchain.chains.retrieval_qa.base.RetrievalQA"
      ]
     },
     "execution_count": 27,
     "metadata": {},
     "output_type": "execute_result"
    }
   ],
   "source": [
    "type(qa)"
   ]
  },
  {
   "cell_type": "code",
   "execution_count": 12,
   "metadata": {},
   "outputs": [],
   "source": [
    "if config[\"llm\"] == LLM_FLAN_T5_SMALL or config[\"llm\"] == LLM_FLAN_T5_BASE or config[\"llm\"] == LLM_FLAN_T5_LARGE:\n",
    "    question_t5_template = \"\"\"\n",
    "    context: {context}\n",
    "    question: {question}\n",
    "    answer: \n",
    "    \"\"\"\n",
    "    QUESTION_T5_PROMPT = PromptTemplate(\n",
    "        template=question_t5_template, input_variables=[\"context\", \"question\"]\n",
    "    )\n",
    "    qa.combine_documents_chain.llm_chain.prompt = QUESTION_T5_PROMPT"
   ]
  },
  {
   "cell_type": "code",
   "execution_count": 26,
   "metadata": {},
   "outputs": [
    {
     "name": "stderr",
     "output_type": "stream",
     "text": [
      "Both `max_new_tokens` (=100) and `max_length`(=512) seem to have been set. `max_new_tokens` will take precedence. Please refer to the documentation for more information. (https://huggingface.co/docs/transformers/main/en/main_classes/text_generation)\n"
     ]
    },
    {
     "data": {
      "text/plain": [
       "{'query': 'how to eat mangos?',\n",
       " 'result': 'eat them with a spoon',\n",
       " 'source_documents': [Document(page_content='108 Chapter Four\\nSensory and Perceptual Development\\nBody growth, sensory and perceptual development, motor skill development,\\nand brain development are all undergoing major changes during this period\\nof growth and development. This results in more growth during this age\\nperiod than at any other time in a child’s life.\\nMotor Development\\nBetween the ages of 12 and 15 months old, a toddler can hold a single cube\\nin one hand while grasping another, can drop a cube into a cup, begin to\\ngrasp with forefingers, uncover hidden objects, rattle a spoon in the cup,\\nmaintain a standing position with some assistance, begin walking, exploring\\nand touching everything, walk flat-footed with a wide gait, enjoy the sense\\nof spatial relationship, have increased knowledge of the environment\\nthrough walking, enjoy feeling and stroking, and roll over with ease.\\nBetween the ages of 15 and 18 months, toilet training usually begins. The\\nolder toddler has mastery of walking, running, and climbing, sleeps twelve\\nhours at night, can climb upstairs by holding on to the rail, creeps downstairs\\nbackward, can get off and on a chair, turns around in a circular path, has one\\nfoot take off, has difficulty building a tower of three cubes, grasps with\\nfingers and thumb together, and allows the parent to feed while the child\\ninsists on holding the spoon.\\nAt the age of 18–24 months old, a toddler can walk alone, walk upstairs\\nwith help, has abandoned crawling as a form of transportation, can push\\nlarge objects such as a chair or stroller, pull a wheeled toy while walking,\\nplace one cube upon another on the first attempt, throw a ball, turn the page\\nof a book, walk sideways and backwards, begin balancing on one foot,\\nmanipulate objects after reaching for them, pick up small things between\\nthe thumb and index finger, lock the knees when standing, enjoy push and\\npull motor involvement, turn doorknobs, chew more effectively, step off\\nlow objects, is trying to master spoon-feeding, is ceaselessly active, can\\npartially dress and undress self, and hold a glass with one hand.\\nAt the age of 2 years, toddlers have growing mobile abilities. They can pick\\nup something when squatting, kneel on the floor or chair, trot, dance to\\nmusic by bobbing up and down, become an explorer of space, be in control\\nof running, pumping, and banging activities, climb upstairs with assistance\\nputting both feet on the step, but cannot climb downstairs, like to push large\\nrolling objects, like to haul and shovel, push and pull, and can propel or', metadata={'source': 'B1.pdf', 'file_path': 'B1.pdf', 'page': 122, 'total_pages': 273, 'Producer': 'macOS Version 14.2.1 (Build 23C71) Quartz PDFContext', 'Author': '.', 'Creator': 'Acrobat PDFMaker 22 for Word', 'CreationDate': \"D:20240221043351Z00'00'\", 'ModDate': \"D:20240221043351Z00'00'\"}),\n",
       "  Document(page_content='166 Chapter Six\\nchildren have one or two permanent teeth, by the age of 7 years, this number\\ngrows to three to eight, and by the time they turn 8 years old, they usually\\nhave over 10 permanent teeth.\\nThe 7-year-old child’s growth of arms and legs continues to be out of\\nproportion with that of their head and trunk. Their vision may still not be\\nacute, especially close up, for such as schoolwork, which parents need to be\\naware of to watch for poor eye vision or the need for prescription glasses.\\nThe higher physical strength will lead to a better use of small muscles and\\nfine motor skills; therefore, a lot more use of their hands is common. Due\\nto vigorous physical development, children at this age need up to 10.5 hours\\nper day of sleep. Since children are now active in school and socializing\\nmore, especially if they are not immunized, some of the early childhood\\ndiseases such as measles, mumps, or chickenpox may resurface. Socializing\\nwith other children and spending more time outside of the home could also\\nlead to frequent infections of the throat, nose, and lungs.\\nFemales experience a more rapid physical development than boys. By now,\\nthe 8-year-old’s brain has reached adult size, and physically, legs and arms\\nare longer, appearing to be more adult-like and they may look gawkier and\\nclumsier. Children of this age group experience a higher level of energy and\\nhave better control over the body, and to support all that, they need 10 hours\\nof sleep per day.\\nThe 9-year-old child’s body changes with an average height increase of\\n2.5 inches per year with a weight increase average of 6 pounds per year.\\nThe greater physical increase will occur in the limbs and trunk area,\\nwhich, with their already long legs, may give them a gangly appearance.\\nThe eruption of permanent teeth continues as more baby teeth are lost.\\nChildren, aged 9 years, continue to enjoy both schoolwork and play. The\\nactivities they enjoy are bicycle riding, skating, running, hiking, and\\nplaying video games.\\nMotor Development\\nSix-year-old children are very active and always on the move, walking and\\nrunning clumsily, jumping rope, doing a few pull-ups, learning to skip, and\\nthrowing a ball well but not accurately in aim, and learning best by\\nmanipulating the environment.\\nSeven-year-old children can dress and coordinate clothes and are conscious\\nof their appearance. At this age, children are very competitive and enjoy', metadata={'source': 'B1.pdf', 'file_path': 'B1.pdf', 'page': 180, 'total_pages': 273, 'Producer': 'macOS Version 14.2.1 (Build 23C71) Quartz PDFContext', 'Author': '.', 'Creator': 'Acrobat PDFMaker 22 for Word', 'CreationDate': \"D:20240221043351Z00'00'\", 'ModDate': \"D:20240221043351Z00'00'\"}),\n",
       "  Document(page_content='132 Chapter Five\\ncan stand on one foot. They can put toys away in an orderly manner\\nand like to finish what they started. They like to dance and have ease\\nand control of the total body. Their posture is more erect and\\nstraighter. They enjoy imitating their parents and other adults.\\nFactors Impacting Physical Development\\nThe connection between the brain hemispheres improves hand-eye\\ncoordination and motor skills. Children of this age group work hard on their\\ngross motor skills, beginning as toddlers and including control and\\nmovement of the large muscles of the body. Examples of gross motor skills\\nare running, kicking, walking, throwing, and jumping. Fine motor skills\\ninclude the control of a child’s smaller muscles, such as in the face, hands,\\nand fingers. Examples of fine motor skills are holding a pencil to write, tying\\nshoelaces, buttoning a shirt, turning the pages of a book, and cutting with\\nscissors. Children in this age group must get plenty of exercise and\\nmovement to strengthen their gross motor skills along with practicing with\\nsafe instruments, such as child scissors, to work on their fine motor skills.\\nHereditary and biological factors also influence the rate of muscle\\nstrengthening and the use of motor skills. In addition, having older siblings\\nor role models such as older classmates or playmates helps to develop both\\ngross and fine motor skills faster.\\nFigure 5-2. Science Class in Early Childhood. Photo Source: Gem Educare', metadata={'source': 'B1.pdf', 'file_path': 'B1.pdf', 'page': 146, 'total_pages': 273, 'Producer': 'macOS Version 14.2.1 (Build 23C71) Quartz PDFContext', 'Author': '.', 'Creator': 'Acrobat PDFMaker 22 for Word', 'CreationDate': \"D:20240221043351Z00'00'\", 'ModDate': \"D:20240221043351Z00'00'\"}),\n",
       "  Document(page_content='188 Chapter Seven\\ninvolve parents’ focus on the challenges that children face during this\\nsensitive developmental age. Consideration can be given to children’s lack\\nof maturity and experience, and how they can help their tween avoid pitfalls.\\nAs parents, we sometimes fail to acknowledge this important period that\\noccurs just before the adolescent years. The reality is that the tween years\\nhold great significance in positively contributing to an individual’s teen\\nyears – those years in between middle childhood and adolescence –\\nprecisely, the tween years.\\nThe Sequence of Physical Changes at Puberty\\nThe growing population of females with more body fat and a higher body\\nmass index (BMI) is contributing to the earlier maturation of girls in the\\nUnited States and Europe. The average age for girls’ first menstrual period\\nin Western countries is 12 years old. Statistics in developed countries show\\nthat girls from 1900 to 1970 had the start of their menarche three to four\\nmonths younger every decade. This is partly due to improvements in health,\\nnutrition, and hygiene. Females with less body fat who start serious exercise\\nearly on often start their first period later. In addition, girls in poorer regions\\nof the world, where malnutrition is widespread, often experience menarche\\nlater than those in developed countries.\\nMany American parents prepare their daughters for the first period or\\nmenarche. Schools often have a fifth-grade program that introduces girls to\\nthe basic facts. Parents, particularly mothers, often better prepare\\nthemselves for their daughter’s phase of puberty; however, boys may not\\nexperience the same support from family. Therefore, they may seek\\ninformation or support from their peers about changes in puberty. Most of\\nthe information that boys get is from reading materials or their peers. Often,\\nthe first sign of puberty in boys is the growth of their testicles and scrotum,\\nand pubic and armpit hair soon begin to grow. Around the same time, the\\npenis begins to enlarge. Body development impulses usually begin after the\\ntesticles and penis have expanded, usually at about 14 years of age. At the\\npeak of body growth, the face and body hair begin to grow. Boy’s voices\\nsound deeper because the larynx stretches, and the vocal cords lengthen.\\nGirls’ voices are also quieter, but to a lesser extent than boys’ voices.\\nSpermarche, the first ejaculation of seminal fluid, usually occurs between\\nthe ages of 13 and 14 years (Arnett, 2013).', metadata={'source': 'B1.pdf', 'file_path': 'B1.pdf', 'page': 202, 'total_pages': 273, 'Producer': 'macOS Version 14.2.1 (Build 23C71) Quartz PDFContext', 'Author': '.', 'Creator': 'Acrobat PDFMaker 22 for Word', 'CreationDate': \"D:20240221043351Z00'00'\", 'ModDate': \"D:20240221043351Z00'00'\"})]}"
      ]
     },
     "execution_count": 26,
     "metadata": {},
     "output_type": "execute_result"
    }
   ],
   "source": [
    "question = \"how to eat mangos?\"\n",
    "qa.combine_documents_chain.verbose = False\n",
    "qa.return_source_documents = True\n",
    "qa({\"query\":question,})"
   ]
  },
  {
   "cell_type": "code",
   "execution_count": null,
   "metadata": {},
   "outputs": [],
   "source": []
  }
 ],
 "metadata": {
  "kernelspec": {
   "display_name": "bot_env",
   "language": "python",
   "name": "python3"
  },
  "language_info": {
   "codemirror_mode": {
    "name": "ipython",
    "version": 3
   },
   "file_extension": ".py",
   "mimetype": "text/x-python",
   "name": "python",
   "nbconvert_exporter": "python",
   "pygments_lexer": "ipython3",
   "version": "3.8.18"
  }
 },
 "nbformat": 4,
 "nbformat_minor": 2
}
